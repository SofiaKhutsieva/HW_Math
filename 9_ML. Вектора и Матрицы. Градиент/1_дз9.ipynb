{
 "cells": [
  {
   "cell_type": "code",
   "execution_count": 1,
   "metadata": {},
   "outputs": [],
   "source": [
    "import numpy as np\n",
    "from sympy import *"
   ]
  },
  {
   "cell_type": "markdown",
   "metadata": {},
   "source": [
    "## № 1"
   ]
  },
  {
   "cell_type": "markdown",
   "metadata": {},
   "source": [
    "**1**"
   ]
  },
  {
   "cell_type": "code",
   "execution_count": 2,
   "metadata": {},
   "outputs": [],
   "source": [
    "# функция, расчитывающая скалярное произведение\n",
    "def mult_(a,b):\n",
    "    if len (a) == len (b):\n",
    "        mult = 0\n",
    "        for i in range(len(a)):\n",
    "            mult += a[i] * b[i]\n",
    "    else:\n",
    "        mult = 'нет решения, т.к. размерности массивов разные'\n",
    "                \n",
    "    return (mult)"
   ]
  },
  {
   "cell_type": "code",
   "execution_count": 3,
   "metadata": {},
   "outputs": [],
   "source": [
    "a = [2, 5, 0, 6, 8, 10, 6, 7, 5, 7]\n",
    "b = [8, 6, 7, 9, 6, 6, 2, 3, 2, 3]"
   ]
  },
  {
   "cell_type": "code",
   "execution_count": 4,
   "metadata": {},
   "outputs": [
    {
     "data": {
      "text/plain": [
       "1632"
      ]
     },
     "execution_count": 4,
     "metadata": {},
     "output_type": "execute_result"
    }
   ],
   "source": [
    " mult_(a,b) * 3 * 2"
   ]
  },
  {
   "cell_type": "code",
   "execution_count": 5,
   "metadata": {},
   "outputs": [],
   "source": [
    "# или так\n",
    "a = np.array(a)\n",
    "b = np.array(b)"
   ]
  },
  {
   "cell_type": "code",
   "execution_count": 6,
   "metadata": {},
   "outputs": [
    {
     "data": {
      "text/plain": [
       "1632"
      ]
     },
     "execution_count": 6,
     "metadata": {},
     "output_type": "execute_result"
    }
   ],
   "source": [
    "3 * 2 * np.dot(a,b)"
   ]
  },
  {
   "cell_type": "markdown",
   "metadata": {},
   "source": [
    "**2**"
   ]
  },
  {
   "cell_type": "code",
   "execution_count": 7,
   "metadata": {},
   "outputs": [],
   "source": [
    "a = [9, 6, 7, 7, 0, 1, 6, 8, 1, 2]\n",
    "b = [0, 2, 2, 6, 7, 8, 8, 3, 1, 8]"
   ]
  },
  {
   "cell_type": "code",
   "execution_count": 8,
   "metadata": {},
   "outputs": [
    {
     "data": {
      "text/plain": [
       "4950"
      ]
     },
     "execution_count": 8,
     "metadata": {},
     "output_type": "execute_result"
    }
   ],
   "source": [
    "mult_(a,b) * 6 * 5"
   ]
  },
  {
   "cell_type": "markdown",
   "metadata": {},
   "source": [
    "**3**"
   ]
  },
  {
   "cell_type": "code",
   "execution_count": 9,
   "metadata": {},
   "outputs": [],
   "source": [
    "a = [2, 5, 0, 6, 8, 1, 0, 6, 7, 5, 7]\n",
    "b = [8, 6, 7, 9, 6, 6, 2, 3, 2, 3]"
   ]
  },
  {
   "cell_type": "code",
   "execution_count": 10,
   "metadata": {},
   "outputs": [
    {
     "data": {
      "text/plain": [
       "'нет решения, т.к. размерности массивов разные'"
      ]
     },
     "execution_count": 10,
     "metadata": {},
     "output_type": "execute_result"
    }
   ],
   "source": [
    " mult_(a,b)"
   ]
  },
  {
   "cell_type": "markdown",
   "metadata": {},
   "source": [
    "**4**"
   ]
  },
  {
   "cell_type": "code",
   "execution_count": 11,
   "metadata": {},
   "outputs": [],
   "source": [
    "a = [9, 6, 7, 7, 0, 1, 6, 8, 1, 2]\n",
    "b = [0, 2, 2, 6, 7, 8, 8, 3, 1, 8]"
   ]
  },
  {
   "cell_type": "code",
   "execution_count": 12,
   "metadata": {},
   "outputs": [
    {
     "data": {
      "text/plain": [
       "165"
      ]
     },
     "execution_count": 12,
     "metadata": {},
     "output_type": "execute_result"
    }
   ],
   "source": [
    " mult_(a,b)"
   ]
  },
  {
   "cell_type": "code",
   "execution_count": null,
   "metadata": {},
   "outputs": [],
   "source": []
  },
  {
   "cell_type": "markdown",
   "metadata": {},
   "source": [
    "## № 2"
   ]
  },
  {
   "cell_type": "markdown",
   "metadata": {},
   "source": [
    "**5**"
   ]
  },
  {
   "cell_type": "code",
   "execution_count": 13,
   "metadata": {},
   "outputs": [],
   "source": [
    "# функция транспонирования\n",
    "def transp_(a):\n",
    "    n = a.shape[0]\n",
    "    m = a.shape[1]\n",
    "    b = np.zeros ((m, n))\n",
    "    for i in range(m):\n",
    "        for j in range(n):\n",
    "            b[i][j] = a[j][i]\n",
    "    return(b)\n",
    "\n",
    "    "
   ]
  },
  {
   "cell_type": "code",
   "execution_count": 14,
   "metadata": {},
   "outputs": [
    {
     "data": {
      "text/plain": [
       "array([[ 2.,  5.,  9., 11.],\n",
       "       [ 1.,  6.,  8., 14.],\n",
       "       [ 7.,  7.,  2., 15.],\n",
       "       [ 4.,  3., 12., 15.]])"
      ]
     },
     "execution_count": 14,
     "metadata": {},
     "output_type": "execute_result"
    }
   ],
   "source": [
    "a = np.array([[2, 1, 7, 4], [5, 6, 7, 3], [9, 8, 2, 12], [11, 14, 15, 15]])\n",
    "transp_(a)"
   ]
  },
  {
   "cell_type": "code",
   "execution_count": 15,
   "metadata": {},
   "outputs": [
    {
     "data": {
      "text/plain": [
       "array([[ 2,  5,  9, 11],\n",
       "       [ 1,  6,  8, 14],\n",
       "       [ 7,  7,  2, 15],\n",
       "       [ 4,  3, 12, 15]])"
      ]
     },
     "execution_count": 15,
     "metadata": {},
     "output_type": "execute_result"
    }
   ],
   "source": [
    "# или так\n",
    "a.transpose()"
   ]
  },
  {
   "cell_type": "markdown",
   "metadata": {},
   "source": [
    "**6**"
   ]
  },
  {
   "cell_type": "code",
   "execution_count": 16,
   "metadata": {},
   "outputs": [
    {
     "data": {
      "text/plain": [
       "array([[ 3.,  2.],\n",
       "       [ 7.,  5.],\n",
       "       [ 8.,  9.],\n",
       "       [ 3.,  4.],\n",
       "       [ 6., 13.]])"
      ]
     },
     "execution_count": 16,
     "metadata": {},
     "output_type": "execute_result"
    }
   ],
   "source": [
    "a = np.array([[3, 7, 8, 3, 6],[2, 5, 9, 4, 13]])\n",
    "transp_(a)"
   ]
  },
  {
   "cell_type": "code",
   "execution_count": 17,
   "metadata": {},
   "outputs": [
    {
     "data": {
      "text/plain": [
       "array([[ 3,  2],\n",
       "       [ 7,  5],\n",
       "       [ 8,  9],\n",
       "       [ 3,  4],\n",
       "       [ 6, 13]])"
      ]
     },
     "execution_count": 17,
     "metadata": {},
     "output_type": "execute_result"
    }
   ],
   "source": [
    "# или так\n",
    "a.transpose()"
   ]
  },
  {
   "cell_type": "code",
   "execution_count": null,
   "metadata": {},
   "outputs": [],
   "source": []
  },
  {
   "cell_type": "markdown",
   "metadata": {},
   "source": [
    "## № 3"
   ]
  },
  {
   "cell_type": "code",
   "execution_count": 25,
   "metadata": {},
   "outputs": [],
   "source": [
    "a1, a2 = symbols ('a1, a2')"
   ]
  },
  {
   "cell_type": "code",
   "execution_count": 26,
   "metadata": {},
   "outputs": [],
   "source": [
    "# среднеквадратичная ошибка\n",
    "MSE = 1 / 4 * ((a1 * 1 + a2 * 2 - 5) **2 + (a1 * 5 + a2 * 3 - 6) **2 + (a1 * 2 + a2 * 4 - 10) **2 + \\\n",
    "(a1 * 3 + a2 * 7 - 8) **2 )"
   ]
  },
  {
   "cell_type": "code",
   "execution_count": 27,
   "metadata": {},
   "outputs": [
    {
     "data": {
      "text/plain": [
       "array([a1, a2], dtype=object)"
      ]
     },
     "execution_count": 27,
     "metadata": {},
     "output_type": "execute_result"
    }
   ],
   "source": [
    "# веса\n",
    "a = np.array([a1, a2])\n",
    "a"
   ]
  },
  {
   "cell_type": "code",
   "execution_count": 28,
   "metadata": {},
   "outputs": [
    {
     "data": {
      "text/plain": [
       "array([19.5*a1 + 23.0*a2 - 39.5, 23.0*a1 + 39.0*a2 - 62.0], dtype=object)"
      ]
     },
     "execution_count": 28,
     "metadata": {},
     "output_type": "execute_result"
    }
   ],
   "source": [
    "# градиент ошибки\n",
    "d_MSE = np.array([])\n",
    "for i in range(len (a)):\n",
    "    d_MSE = np.append (d_MSE, diff(MSE, a[i]))\n",
    "    \n",
    "d_MSE"
   ]
  },
  {
   "cell_type": "code",
   "execution_count": 29,
   "metadata": {},
   "outputs": [],
   "source": [
    "x0 = np.zeros ((len(a))) # начальная точка\n",
    "l = 0.01 # шаг \n",
    "num = 0 # итерации"
   ]
  },
  {
   "cell_type": "code",
   "execution_count": 30,
   "metadata": {},
   "outputs": [
    {
     "name": "stdout",
     "output_type": "stream",
     "text": [
      "количество итераций =  7 \n",
      " MSE =  6.35010849011797\n"
     ]
    }
   ],
   "source": [
    "# градиентный спуск\n",
    "while True:\n",
    "    num += 1\n",
    "    d_MSE_=[]\n",
    "    for i in range(len (a)):\n",
    "        d_MSE_ = np.append (d_MSE_, d_MSE[i].subs ({a[0]:x0[0], a[1]:x0[1]})) # подставляем в градиент значения а\n",
    "        \n",
    "    x0 = x0 - l * d_MSE_ # вычисляем новые значения а\n",
    "     \n",
    "    MSE_= MSE.subs({a[0]:x0[0], a[1]:x0[1] }) # вычисление среднеквадратичной ошибки \n",
    "    \n",
    "    #print(MSE_)\n",
    "    if MSE_ < 6.36:\n",
    "        print ('количество итераций = ', num, '\\n', 'MSE = ', MSE_)\n",
    "        break\n",
    "\n",
    "    "
   ]
  },
  {
   "cell_type": "code",
   "execution_count": null,
   "metadata": {},
   "outputs": [],
   "source": []
  },
  {
   "cell_type": "code",
   "execution_count": 31,
   "metadata": {},
   "outputs": [],
   "source": [
    "# for i in range (len (a)):\n",
    "#     if i == 0:\n",
    "#         MSE_ = MSE.subs(a[i],x0[i])\n",
    "#     else:\n",
    "#         MSE_ = MSE_.subs(a[i],x0[i])\n",
    "# MSE_"
   ]
  },
  {
   "cell_type": "code",
   "execution_count": null,
   "metadata": {},
   "outputs": [],
   "source": []
  }
 ],
 "metadata": {
  "kernelspec": {
   "display_name": "Python 3",
   "language": "python",
   "name": "python3"
  },
  "language_info": {
   "codemirror_mode": {
    "name": "ipython",
    "version": 3
   },
   "file_extension": ".py",
   "mimetype": "text/x-python",
   "name": "python",
   "nbconvert_exporter": "python",
   "pygments_lexer": "ipython3",
   "version": "3.7.6"
  }
 },
 "nbformat": 4,
 "nbformat_minor": 4
}
