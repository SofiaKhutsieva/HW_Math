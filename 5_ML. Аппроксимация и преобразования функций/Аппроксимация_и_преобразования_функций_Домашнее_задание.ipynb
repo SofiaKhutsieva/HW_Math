{
 "cells": [
  {
   "cell_type": "markdown",
   "metadata": {
    "id": "-zOqnEVGugHU"
   },
   "source": [
    "# Блок 1.\n",
    "\n",
    "С помощью symPy найдите полиномы, описывающие данные наборы точек. Затем проведите полное исследование каждого полученного полинома: проверьте четность/нечетность, найдите нули, промежутки знакопостоянства. Постройте их графики. С помощью изменения промежутка для х добейтесь того, чтобы все нули были отображены на графике функции. <br><br><br>\n",
    "а) $(-4; -4268), (-3; -1227), (-1; -17), (1; 17), (3; 1227), (4; 4268)$<br><br>\n",
    "б)$ (-4; -16729), (-3; -3999), (-1; 5), (1; 1), (3; 4005), (4; 16735)$\n"
   ]
  },
  {
   "cell_type": "code",
   "execution_count": 1,
   "metadata": {
    "id": "mO8e_U97uxvk"
   },
   "outputs": [],
   "source": [
    "from sympy import *"
   ]
  },
  {
   "cell_type": "markdown",
   "metadata": {},
   "source": [
    "а) $(-4; -4268), (-3; -1227), (-1; -17), (1; 17), (3; 1227), (4; 4268)$<br><br>"
   ]
  },
  {
   "cell_type": "code",
   "execution_count": 2,
   "metadata": {},
   "outputs": [],
   "source": [
    "# 6 точек, значит полином 5 степени\n",
    "a0, a1, a2, a3, a4, a5 = symbols('a0, a1, a2, a3, a4, a5')"
   ]
  },
  {
   "cell_type": "code",
   "execution_count": 3,
   "metadata": {},
   "outputs": [],
   "source": [
    "eq1_lp = a5 * (-4) **5 + a4 * (-4) **4 + a3 * (-4) **3 + a2 * (-4) **2 + a1 * (-4) + a0 + 4268\n",
    "eq2_lp = a5 * (-3) **5 + a4 * (-3) **4 + a3 * (-3) **3 + a2 * (-3) **2 + a1 * (-3) + a0 + 1227\n",
    "eq3_lp = a5 * (-1) **5 + a4 * (-1) **4 + a3 * (-1) **3 + a2 * (-1) **2 + a1 * (-1) + a0 + 17\n",
    "eq4_lp = a5 * (1) **5 + a4 * (1) **4 + a3 * (1) **3 + a2 * (1) **2 + a1 * (1) + a0 - 17\n",
    "eq5_lp = a5 * (3) **5 + a4 * (3) **4 + a3 * (3) **3 + a2 * (3) **2 + a1 * (3) + a0 - 1227\n",
    "eq6_lp = a5 * (4) **5 + a4 * (4) **4 + a3 * (4) **3 + a2 * (4) **2 + a1 * (4) + a0 - 4268"
   ]
  },
  {
   "cell_type": "code",
   "execution_count": 4,
   "metadata": {},
   "outputs": [
    {
     "data": {
      "text/latex": [
       "$\\displaystyle \\left\\{\\left( 3, \\  0, \\  19, \\  0, \\  -5, \\  0\\right)\\right\\}$"
      ],
      "text/plain": [
       "FiniteSet((3, 0, 19, 0, -5, 0))"
      ]
     },
     "execution_count": 4,
     "metadata": {},
     "output_type": "execute_result"
    }
   ],
   "source": [
    "nonlinsolve([eq1_lp, eq2_lp, eq3_lp, eq4_lp, eq5_lp, eq6_lp], [a5, a4, a3, a2, a1, a0])"
   ]
  },
  {
   "cell_type": "code",
   "execution_count": 5,
   "metadata": {},
   "outputs": [],
   "source": [
    "x = Symbol('x')\n",
    "f = 3*x**5 + 19*x**3 - 5*x "
   ]
  },
  {
   "cell_type": "code",
   "execution_count": 6,
   "metadata": {},
   "outputs": [
    {
     "data": {
      "image/png": "[encoded data removed]",
      "text/plain": [
       "<Figure size 432x288 with 1 Axes>"
      ]
     },
     "metadata": {
      "needs_background": "light"
     },
     "output_type": "display_data"
    },
    {
     "data": {
      "text/plain": [
       "<sympy.plotting.plot.Plot at 0x216fdad0288>"
      ]
     },
     "execution_count": 6,
     "metadata": {},
     "output_type": "execute_result"
    }
   ],
   "source": [
    "plot(f, (x,-5,5))"
   ]
  },
  {
   "cell_type": "code",
   "execution_count": 7,
   "metadata": {},
   "outputs": [
    {
     "data": {
      "image/png": "[encoded data removed]",
      "text/plain": [
       "<Figure size 432x288 with 1 Axes>"
      ]
     },
     "metadata": {
      "needs_background": "light"
     },
     "output_type": "display_data"
    },
    {
     "data": {
      "text/plain": [
       "<sympy.plotting.plot.Plot at 0x216ff0e0948>"
      ]
     },
     "execution_count": 7,
     "metadata": {},
     "output_type": "execute_result"
    }
   ],
   "source": [
    "plot(f, (x,-0.75,0.75))"
   ]
  },
  {
   "cell_type": "code",
   "execution_count": 8,
   "metadata": {},
   "outputs": [
    {
     "name": "stdout",
     "output_type": "stream",
     "text": [
      "-4268\n",
      "-1227\n",
      "-17\n",
      "17\n",
      "1227\n",
      "4268\n"
     ]
    }
   ],
   "source": [
    "print(f.subs(x, -4))\n",
    "print(f.subs(x, -3))\n",
    "print(f.subs(x, -1))\n",
    "print(f.subs(x, 1))\n",
    "print(f.subs(x, 3))\n",
    "print(f.subs(x, 4))"
   ]
  },
  {
   "cell_type": "code",
   "execution_count": 9,
   "metadata": {
    "scrolled": true
   },
   "outputs": [
    {
     "name": "stdout",
     "output_type": "stream",
     "text": [
      "четность: функция нечетная\n",
      "нули функции: [0, -I*sqrt(19/6 + sqrt(421)/6), I*sqrt(19/6 + sqrt(421)/6), -sqrt(-19/6 + sqrt(421)/6), sqrt(-19/6 + sqrt(421)/6)]\n",
      "f>0 на: ((x < oo) & (sqrt(-19/6 + sqrt(421)/6) < x)) | ((x < 0) & (-sqrt(-19/6 + sqrt(421)/6) < x))\n",
      "f<0 на: ((0 < x) & (x < sqrt(-19/6 + sqrt(421)/6))) | ((-oo < x) & (x < -sqrt(-19/6 + sqrt(421)/6)))\n",
      "f возрастает на: ((x < oo) & (sqrt(-19/10 + 13*sqrt(21)/30) < x)) | ((-oo < x) & (x < -sqrt(-19/10 + 13*sqrt(21)/30)))\n",
      "f убывает на: (x < sqrt(-19/10 + 13*sqrt(21)/30)) & (-sqrt(-19/10 + 13*sqrt(21)/30) < x)\n",
      "экстремумы: [-I*sqrt(19/10 + 13*sqrt(21)/30), I*sqrt(19/10 + 13*sqrt(21)/30), -sqrt(-19/10 + 13*sqrt(21)/30), sqrt(-19/10 + 13*sqrt(21)/30)]\n"
     ]
    }
   ],
   "source": [
    "# исследование функции\n",
    "if f.subs(x, x) == f.subs(x, -x):\n",
    "    print('четность: функция четная')\n",
    "else:\n",
    "    print('четность: функция нечетная') \n",
    "print('нули функции:',solve(f))\n",
    "print('f>0 на:',solve_univariate_inequality (f>0,x))\n",
    "print('f<0 на:',solve_univariate_inequality (f<0,x))\n",
    "print('f возрастает на:',solve_univariate_inequality (diff(f)>0,x))\n",
    "print('f убывает на:',solve_univariate_inequality (diff(f)<0,x))\n",
    "print('экстремумы:',solve(diff(f)))"
   ]
  },
  {
   "cell_type": "markdown",
   "metadata": {},
   "source": [
    "б)$ (-4; -16729), (-3; -3999), (-1; 5), (1; 1), (3; 4005), (4; 16735)$"
   ]
  },
  {
   "cell_type": "code",
   "execution_count": 10,
   "metadata": {},
   "outputs": [],
   "source": [
    "# 6 точек, значит полином 5 степени\n",
    "a0, a1, a2, a3, a4, a5 = symbols('a0, a1, a2, a3, a4, a5')"
   ]
  },
  {
   "cell_type": "code",
   "execution_count": 11,
   "metadata": {},
   "outputs": [],
   "source": [
    "eq1_lp = a5 * (-4) **5 + a4 * (-4) **4 + a3 * (-4) **3 + a2 * (-4) **2 + a1 * (-4) + a0 + 16729\n",
    "eq2_lp = a5 * (-3) **5 + a4 * (-3) **4 + a3 * (-3) **3 + a2 * (-3) **2 + a1 * (-3) + a0 + 3999\n",
    "eq3_lp = a5 * (-1) **5 + a4 * (-1) **4 + a3 * (-1) **3 + a2 * (-1) **2 + a1 * (-1) + a0 - 5\n",
    "eq4_lp = a5 * (1) **5 + a4 * (1) **4 + a3 * (1) **3 + a2 * (1) **2 + a1 * (1) + a0 - 1\n",
    "eq5_lp = a5 * (3) **5 + a4 * (3) **4 + a3 * (3) **3 + a2 * (3) **2 + a1 * (3) + a0 - 4005\n",
    "eq6_lp = a5 * (4) **5 + a4 * (4) **4 + a3 * (4) **3 + a2 * (4) **2 + a1 * (4) + a0 - 16735"
   ]
  },
  {
   "cell_type": "code",
   "execution_count": 12,
   "metadata": {},
   "outputs": [
    {
     "data": {
      "text/latex": [
       "$\\displaystyle \\left\\{\\left( 16, \\  0, \\  7, \\  0, \\  -25, \\  3\\right)\\right\\}$"
      ],
      "text/plain": [
       "FiniteSet((16, 0, 7, 0, -25, 3))"
      ]
     },
     "execution_count": 12,
     "metadata": {},
     "output_type": "execute_result"
    }
   ],
   "source": [
    "nonlinsolve([eq1_lp, eq2_lp, eq3_lp, eq4_lp, eq5_lp, eq6_lp], [a5, a4, a3, a2, a1, a0])"
   ]
  },
  {
   "cell_type": "code",
   "execution_count": 13,
   "metadata": {},
   "outputs": [],
   "source": [
    "x = Symbol('x')\n",
    "f = 16*x**5 + 7*x**3 - 25*x + 3"
   ]
  },
  {
   "cell_type": "code",
   "execution_count": 14,
   "metadata": {},
   "outputs": [
    {
     "data": {
      "image/png": "[encoded data removed]",
      "text/plain": [
       "<Figure size 432x288 with 1 Axes>"
      ]
     },
     "metadata": {
      "needs_background": "light"
     },
     "output_type": "display_data"
    },
    {
     "data": {
      "text/plain": [
       "<sympy.plotting.plot.Plot at 0x216811f7b88>"
      ]
     },
     "execution_count": 14,
     "metadata": {},
     "output_type": "execute_result"
    }
   ],
   "source": [
    "plot(f, (x,-5,5))"
   ]
  },
  {
   "cell_type": "code",
   "execution_count": 15,
   "metadata": {},
   "outputs": [
    {
     "data": {
      "image/png": "[encoded data removed]",
      "text/plain": [
       "<Figure size 432x288 with 1 Axes>"
      ]
     },
     "metadata": {
      "needs_background": "light"
     },
     "output_type": "display_data"
    },
    {
     "data": {
      "text/plain": [
       "<sympy.plotting.plot.Plot at 0x21681206088>"
      ]
     },
     "execution_count": 15,
     "metadata": {},
     "output_type": "execute_result"
    }
   ],
   "source": [
    "plot(f, (x,-1.5,1.5))"
   ]
  },
  {
   "cell_type": "code",
   "execution_count": 16,
   "metadata": {},
   "outputs": [
    {
     "name": "stdout",
     "output_type": "stream",
     "text": [
      "-16729\n",
      "-3999\n",
      "5\n",
      "1\n",
      "4005\n",
      "16735\n"
     ]
    }
   ],
   "source": [
    "print(f.subs(x, -4))\n",
    "print(f.subs(x, -3))\n",
    "print(f.subs(x, -1))\n",
    "print(f.subs(x, 1))\n",
    "print(f.subs(x, 3))\n",
    "print(f.subs(x, 4))"
   ]
  },
  {
   "cell_type": "code",
   "execution_count": 17,
   "metadata": {
    "scrolled": true
   },
   "outputs": [
    {
     "name": "stdout",
     "output_type": "stream",
     "text": [
      "четность: функция нечетная\n",
      "нули функции: [CRootOf(16*x**5 + 7*x**3 - 25*x + 3, 0), CRootOf(16*x**5 + 7*x**3 - 25*x + 3, 1), CRootOf(16*x**5 + 7*x**3 - 25*x + 3, 2), CRootOf(16*x**5 + 7*x**3 - 25*x + 3, 3), CRootOf(16*x**5 + 7*x**3 - 25*x + 3, 4)]\n",
      "f>0 на: ((x < oo) & (CRootOf(16*x**5 + 7*x**3 - 25*x + 3, 2) < x)) | ((x < CRootOf(16*x**5 + 7*x**3 - 25*x + 3, 1)) & (CRootOf(16*x**5 + 7*x**3 - 25*x + 3, 0) < x))\n",
      "f<0 на: ((-oo < x) & (x < CRootOf(16*x**5 + 7*x**3 - 25*x + 3, 0))) | ((x < CRootOf(16*x**5 + 7*x**3 - 25*x + 3, 2)) & (CRootOf(16*x**5 + 7*x**3 - 25*x + 3, 1) < x))\n",
      "f возрастает на: ((x < oo) & (sqrt(-21/160 + sqrt(8441)/160) < x)) | ((-oo < x) & (x < -sqrt(-21/160 + sqrt(8441)/160)))\n",
      "f убывает на: (x < sqrt(-21/160 + sqrt(8441)/160)) & (-sqrt(-21/160 + sqrt(8441)/160) < x)\n",
      "экстремумы: [-I*sqrt(21/160 + sqrt(8441)/160), I*sqrt(21/160 + sqrt(8441)/160), -sqrt(-21/160 + sqrt(8441)/160), sqrt(-21/160 + sqrt(8441)/160)]\n"
     ]
    }
   ],
   "source": [
    "# исследование функции\n",
    "if f.subs(x, x) == f.subs(x, -x):\n",
    "    print('четность: функция четная')\n",
    "else:\n",
    "    print('четность: функция нечетная') \n",
    "print('нули функции:',solve(f))\n",
    "print('f>0 на:',solve_univariate_inequality (f>0,x))\n",
    "print('f<0 на:',solve_univariate_inequality (f<0,x))\n",
    "print('f возрастает на:',solve_univariate_inequality (diff(f)>0,x))\n",
    "print('f убывает на:',solve_univariate_inequality (diff(f)<0,x))\n",
    "print('экстремумы:',solve(diff(f)))"
   ]
  },
  {
   "cell_type": "code",
   "execution_count": null,
   "metadata": {},
   "outputs": [],
   "source": []
  },
  {
   "cell_type": "code",
   "execution_count": null,
   "metadata": {},
   "outputs": [],
   "source": []
  },
  {
   "cell_type": "markdown",
   "metadata": {
    "id": "4jCUKC9CuyKO"
   },
   "source": [
    "# Блок 2."
   ]
  },
  {
   "cell_type": "code",
   "execution_count": 18,
   "metadata": {
    "id": "5ElcKCqet0wk"
   },
   "outputs": [],
   "source": [
    "from sympy import *\n",
    "from sympy.plotting import plot\n",
    "init_printing(use_unicode=False, wrap_line=False, no_global=True)"
   ]
  },
  {
   "cell_type": "code",
   "execution_count": 19,
   "metadata": {
    "id": "QwTY4Sq8t0w2"
   },
   "outputs": [],
   "source": [
    "import matplotlib.pyplot as plt\n",
    "import numpy as np"
   ]
  },
  {
   "cell_type": "code",
   "execution_count": 20,
   "metadata": {
    "id": "Y0t8k28Jt0xG"
   },
   "outputs": [],
   "source": [
    "x = Symbol('x')"
   ]
  },
  {
   "cell_type": "markdown",
   "metadata": {
    "id": "wLhMVWF9t0xQ"
   },
   "source": [
    "## 1.\n",
    "### Получите значение MSE меньшее 5."
   ]
  },
  {
   "cell_type": "code",
   "execution_count": 21,
   "metadata": {
    "id": "LX3-aD49t0xU"
   },
   "outputs": [],
   "source": [
    "def print_points_ands_function1(sympy_function):\n",
    "    def function(x_): return float(sympy_function.subs(x, x_))\n",
    "    \n",
    "    points_X = np.array([-2, -1, 0, 1, 2, 3, 3.5, 4, 4.5, 5])\n",
    "    points_Y = np.array([2, -4, 1, 8, 21, 40, 47, 65, 75, 92])\n",
    "    plt.xlim(-6, 10)\n",
    "    plt.ylim(-1, 100)\n",
    "    \n",
    "    plt.scatter(points_X, points_Y, c='r')\n",
    "    x_range = np.linspace(plt.xlim()[0], plt.xlim()[1], num=100)\n",
    "    function_Y = [function(x_) for x_ in x_range]\n",
    "    plt.plot(x_range, function_Y, 'b')\n",
    "    plt.show()\n",
    "    \n",
    "    MSE = sum([(points_Y[i] - function(points_X[i]))**2 for i in range(len(points_Y))]) / len(points_Y)\n",
    "    print(f'MSE = {MSE}')"
   ]
  },
  {
   "cell_type": "code",
   "execution_count": 22,
   "metadata": {
    "id": "tCcjAV0qt0xb",
    "outputId": "7d73b65e-59f0-4d31-c914-f97d7da81900"
   },
   "outputs": [
    {
     "data": {
      "image/png": "[encoded data removed]",
      "text/latex": [
       "$\\displaystyle 48 x^{2} - 128 x + 83$"
      ],
      "text/plain": [
       "    2             \n",
       "48*x  - 128*x + 83"
      ]
     },
     "execution_count": 22,
     "metadata": {},
     "output_type": "execute_result"
    }
   ],
   "source": [
    "f1 = 48 * x**2 - 128 * x + 83\n",
    "f1"
   ]
  },
  {
   "cell_type": "code",
   "execution_count": 23,
   "metadata": {
    "id": "VQwDN4XLt0xl",
    "outputId": "a46d8327-06b3-4fbc-fa5d-6a1e4648a22e"
   },
   "outputs": [
    {
     "data": {
      "image/png": "[encoded data removed]",
      "text/plain": [
       "<Figure size 432x288 with 1 Axes>"
      ]
     },
     "metadata": {
      "needs_background": "light"
     },
     "output_type": "display_data"
    },
    {
     "name": "stdout",
     "output_type": "stream",
     "text": [
      "MSE = 93691.3\n"
     ]
    }
   ],
   "source": [
    "print_points_ands_function1(f1)"
   ]
  },
  {
   "cell_type": "code",
   "execution_count": 24,
   "metadata": {},
   "outputs": [
    {
     "data": {
      "image/png": "[encoded data removed]",
      "text/plain": [
       "<Figure size 432x288 with 1 Axes>"
      ]
     },
     "metadata": {
      "needs_background": "light"
     },
     "output_type": "display_data"
    },
    {
     "name": "stdout",
     "output_type": "stream",
     "text": [
      "MSE = 4.4125\n"
     ]
    }
   ],
   "source": [
    "f_new = f1.subs(x,(x+6)/4)\n",
    "print_points_ands_function1(f_new)"
   ]
  },
  {
   "cell_type": "code",
   "execution_count": null,
   "metadata": {},
   "outputs": [],
   "source": []
  },
  {
   "cell_type": "markdown",
   "metadata": {
    "id": "HRrtO4Lyt0xt"
   },
   "source": [
    "## 2.\n",
    "### Получите значение MSE меньшее 35."
   ]
  },
  {
   "cell_type": "code",
   "execution_count": 25,
   "metadata": {
    "id": "dm_YVXYgt0xw"
   },
   "outputs": [],
   "source": [
    "def print_points_ands_function2(sympy_function):\n",
    "    def function(x_): return float(sympy_function.subs(x, x_))\n",
    "    \n",
    "    points_X = np.array([-2, -1, 0, 1, 2, 3, 3.5, 4, 4.5, 5])\n",
    "    points_Y = np.array([-31, -9, 4, -1, 9, 24, 47, 92, 120, 170])\n",
    "    plt.xlim(-3, 6)\n",
    "    plt.ylim(-35, 200)\n",
    "    \n",
    "    plt.scatter(points_X, points_Y, c='r')\n",
    "    x_range = np.linspace(plt.xlim()[0], plt.xlim()[1], num=100)\n",
    "    function_Y = [function(x_) for x_ in x_range]\n",
    "    plt.plot(x_range, function_Y, 'b')\n",
    "    plt.show()\n",
    "    \n",
    "    MSE = sum([(points_Y[i] - function(points_X[i]))**2 for i in range(len(points_Y))]) / len(points_Y)\n",
    "    print(f'MSE = {MSE}')"
   ]
  },
  {
   "cell_type": "code",
   "execution_count": 26,
   "metadata": {
    "id": "7LMQiJDKt0x1",
    "outputId": "8b8d6fed-a7c9-4a8d-c9f8-9ace332dd838"
   },
   "outputs": [
    {
     "data": {
      "image/png": "[encoded data removed]",
      "text/latex": [
       "$\\displaystyle 4 x^{3} + 30 x^{2} + 74 x + 62$"
      ],
      "text/plain": [
       "   3       2            \n",
       "4*x  + 30*x  + 74*x + 62"
      ]
     },
     "execution_count": 26,
     "metadata": {},
     "output_type": "execute_result"
    }
   ],
   "source": [
    "f2 = 4 * x**3 + 30 * x**2 + 74 * x + 62\n",
    "f2"
   ]
  },
  {
   "cell_type": "code",
   "execution_count": 27,
   "metadata": {
    "id": "SjwUXoCXt0x6",
    "outputId": "a5e8c7e9-602e-430b-acd3-c8c5bd2b055e"
   },
   "outputs": [
    {
     "data": {
      "image/png": "[encoded data removed]",
      "text/plain": [
       "<Figure size 432x288 with 1 Axes>"
      ]
     },
     "metadata": {
      "needs_background": "light"
     },
     "output_type": "display_data"
    },
    {
     "name": "stdout",
     "output_type": "stream",
     "text": [
      "MSE = 607200.2\n"
     ]
    }
   ],
   "source": [
    "print_points_ands_function2(f2)"
   ]
  },
  {
   "cell_type": "code",
   "execution_count": 28,
   "metadata": {},
   "outputs": [
    {
     "data": {
      "image/png": "[encoded data removed]",
      "text/plain": [
       "<Figure size 432x288 with 1 Axes>"
      ]
     },
     "metadata": {
      "needs_background": "light"
     },
     "output_type": "display_data"
    },
    {
     "name": "stdout",
     "output_type": "stream",
     "text": [
      "MSE = 34.725\n"
     ]
    }
   ],
   "source": [
    "f_new = 1/2*f2.subs(x,(x-3))\n",
    "print_points_ands_function2(f_new)"
   ]
  },
  {
   "cell_type": "code",
   "execution_count": null,
   "metadata": {},
   "outputs": [],
   "source": []
  },
  {
   "cell_type": "markdown",
   "metadata": {
    "id": "xYJNX-nUt0x_"
   },
   "source": [
    "## 3.\n",
    "### Получите значение MSE меньшее 3300."
   ]
  },
  {
   "cell_type": "code",
   "execution_count": 29,
   "metadata": {
    "id": "UNLnKjvit0yB"
   },
   "outputs": [],
   "source": [
    "def print_points_ands_function3(sympy_function):\n",
    "    def function(x_): return float(sympy_function.subs(x, x_))\n",
    "    \n",
    "    points_X = np.array([-2, -1, 0, 1, 2, 3, 3.5, 4, 4.5, 5])\n",
    "    points_Y = np.array([60, 25, 4, -0, -57, -195, -295, -540, -700, -760])\n",
    "    plt.xlim(-10, 6)\n",
    "    plt.ylim(-850, 100)\n",
    "    \n",
    "    plt.scatter(points_X, points_Y, c='r')\n",
    "    x_range = np.linspace(plt.xlim()[0], plt.xlim()[1], num=100)\n",
    "    function_Y = [function(x_) for x_ in x_range]\n",
    "    plt.plot(x_range, function_Y, 'b')\n",
    "    plt.show()\n",
    "    \n",
    "    MSE = sum([(points_Y[i] - function(points_X[i]))**2 for i in range(len(points_Y))]) / len(points_Y)\n",
    "    print(f'MSE = {MSE}')"
   ]
  },
  {
   "cell_type": "code",
   "execution_count": 30,
   "metadata": {
    "id": "osbCVOuIt0yH",
    "outputId": "22bfe175-fcf5-4290-9dd1-3b2fc34ff029"
   },
   "outputs": [
    {
     "data": {
      "image/png": "[encoded data removed]",
      "text/latex": [
       "$\\displaystyle - 36 x^{3} - 756 x^{2} - 5334 x - 12636$"
      ],
      "text/plain": [
       "      3        2                 \n",
       "- 36*x  - 756*x  - 5334*x - 12636"
      ]
     },
     "execution_count": 30,
     "metadata": {},
     "output_type": "execute_result"
    }
   ],
   "source": [
    "f3 = -36 * x**3 - 756 * x**2 - 5334 * x - 12636\n",
    "f3"
   ]
  },
  {
   "cell_type": "code",
   "execution_count": 31,
   "metadata": {
    "id": "1T4lJVQPt0yR",
    "outputId": "ab86dbbf-6fd9-42a9-f5ef-6316179ace4f"
   },
   "outputs": [
    {
     "data": {
      "image/png": "[encoded data removed]",
      "text/plain": [
       "<Figure size 432x288 with 1 Axes>"
      ]
     },
     "metadata": {
      "needs_background": "light"
     },
     "output_type": "display_data"
    },
    {
     "name": "stdout",
     "output_type": "stream",
     "text": [
      "MSE = 1346344545.35\n"
     ]
    }
   ],
   "source": [
    "print_points_ands_function3(f3)"
   ]
  },
  {
   "cell_type": "code",
   "execution_count": 32,
   "metadata": {},
   "outputs": [
    {
     "data": {
      "image/png": "[encoded data removed]",
      "text/plain": [
       "<Figure size 432x288 with 1 Axes>"
      ]
     },
     "metadata": {
      "needs_background": "light"
     },
     "output_type": "display_data"
    },
    {
     "name": "stdout",
     "output_type": "stream",
     "text": [
      "MSE = 2554.2245000000066\n"
     ]
    }
   ],
   "source": [
    "f_new = 1/10*f3.subs(x,x-6)\n",
    "print_points_ands_function3(f_new)"
   ]
  },
  {
   "cell_type": "code",
   "execution_count": null,
   "metadata": {},
   "outputs": [],
   "source": []
  },
  {
   "cell_type": "markdown",
   "metadata": {
    "id": "3jcBH1M3t0yZ"
   },
   "source": [
    "## 4.\n",
    "### Получите значение MSE меньшее 25."
   ]
  },
  {
   "cell_type": "code",
   "execution_count": 33,
   "metadata": {
    "id": "R4nnsc8zt0yb"
   },
   "outputs": [],
   "source": [
    "def print_points_ands_function4(sympy_function):\n",
    "    def function(x_): return float(sympy_function.subs(x, x_))\n",
    "    \n",
    "    points_X = np.array([-2, -1, 0, 1, 2, 3, 3.5, 4, 4.5, 5])\n",
    "    points_Y = np.array([-42, -37, -23, -36, -45, -80, -83, -110, -131, -155])\n",
    "    plt.xlim(-4, 20)\n",
    "    plt.ylim(-160, -10)\n",
    "    \n",
    "    plt.scatter(points_X, points_Y, c='r')\n",
    "    x_range = np.linspace(plt.xlim()[0], plt.xlim()[1], num=100)\n",
    "    function_Y = [function(x_) for x_ in x_range]\n",
    "    plt.plot(x_range, function_Y, 'b')\n",
    "    plt.show()\n",
    "    \n",
    "    MSE = sum([(points_Y[i] - function(points_X[i]))**2 for i in range(len(points_Y))]) / len(points_Y)\n",
    "    print(f'MSE = {MSE}')"
   ]
  },
  {
   "cell_type": "code",
   "execution_count": 34,
   "metadata": {
    "id": "Uq__GcfPt0yj",
    "outputId": "345572d8-35a9-47c2-d7c9-4769bd8d17e7"
   },
   "outputs": [
    {
     "data": {
      "image/png": "[encoded data removed]",
      "text/latex": [
       "$\\displaystyle - 1.25 x^{2} + 25 x - 152$"
      ],
      "text/plain": [
       "        2             \n",
       "- 1.25*x  + 25*x - 152"
      ]
     },
     "execution_count": 34,
     "metadata": {},
     "output_type": "execute_result"
    }
   ],
   "source": [
    "f4 = - 5 / 4 * x**2 + 25 * x - 152\n",
    "f4"
   ]
  },
  {
   "cell_type": "code",
   "execution_count": 35,
   "metadata": {
    "id": "Muwpsp8tt0yp",
    "outputId": "99828dab-4bd6-434b-fdc9-ee8fa9113858"
   },
   "outputs": [
    {
     "data": {
      "image/png": "[encoded data removed]",
      "text/plain": [
       "<Figure size 432x288 with 1 Axes>"
      ]
     },
     "metadata": {
      "needs_background": "light"
     },
     "output_type": "display_data"
    },
    {
     "name": "stdout",
     "output_type": "stream",
     "text": [
      "MSE = 9143.51953125\n"
     ]
    }
   ],
   "source": [
    "print_points_ands_function4(f4)"
   ]
  },
  {
   "cell_type": "code",
   "execution_count": 36,
   "metadata": {
    "id": "oTNLmWfDt0yt"
   },
   "outputs": [
    {
     "data": {
      "image/png": "[encoded data removed]",
      "text/plain": [
       "<Figure size 432x288 with 1 Axes>"
      ]
     },
     "metadata": {
      "needs_background": "light"
     },
     "output_type": "display_data"
    },
    {
     "name": "stdout",
     "output_type": "stream",
     "text": [
      "MSE = 20.3125\n"
     ]
    }
   ],
   "source": [
    "f_new = f4.subs(x,(x+5)*2)\n",
    "print_points_ands_function4(f_new)"
   ]
  },
  {
   "cell_type": "code",
   "execution_count": null,
   "metadata": {},
   "outputs": [],
   "source": []
  }
 ],
 "metadata": {
  "colab": {
   "collapsed_sections": [],
   "name": "Аппроксимация и преобразования функций. Домашнее задание.ipynb",
   "provenance": []
  },
  "kernelspec": {
   "display_name": "Python 3",
   "language": "python",
   "name": "python3"
  },
  "language_info": {
   "codemirror_mode": {
    "name": "ipython",
    "version": 3
   },
   "file_extension": ".py",
   "mimetype": "text/x-python",
   "name": "python",
   "nbconvert_exporter": "python",
   "pygments_lexer": "ipython3",
   "version": "3.7.6"
  }
 },
 "nbformat": 4,
 "nbformat_minor": 1
}
