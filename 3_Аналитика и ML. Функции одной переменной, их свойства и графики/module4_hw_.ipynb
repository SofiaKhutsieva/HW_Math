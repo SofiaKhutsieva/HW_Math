{
 "cells": [
  {
   "cell_type": "markdown",
   "metadata": {
    "colab_type": "text",
    "id": "Zi98nJms5aJV"
   },
   "source": [
    "## Домашнее задание. Функции одной переменной, их свойства и графики.\n",
    "\n",
    "\n",
    "Домашнее задание к модулю состоит из двух частей. В первой части вы найдете пять графиков и 5 функций. Укажите, какой функции какой график соответствует.\n",
    "\tВо второй части дан набор функций. Исследуйте их на четность/нечетность, найдите их нули и промежутки знакопостоянства. Также, с помощью графиков, определите промежутки возрастания/убывания этих функций. Это легко сделать для линейной и показательной функций, для корня и логарифма немного сложнее, а для решения задачи с параболой нужно будет немного подумать. Если у вас нет желания поломать голову, находить промежутки возрастания/убывания параболы необязательно. Для тех, кто решит этим заняться, есть подсказка в текстовом описании под видео. <br><br>\n",
    "\tНа проверку пришлите ноутбук с выполненным исследованием. <br>\n"
   ]
  },
  {
   "cell_type": "markdown",
   "metadata": {
    "colab_type": "text",
    "id": "y1r4l2xB6Y_u"
   },
   "source": [
    "### Задание 1. \n",
    "\n",
    "а. $4x+5$ <br>\n",
    "б. $4x^2+4x+10$ <br>\n",
    "в. $100log(x)$ <br>\n",
    "г. $200\\sqrt x$ <br>\n",
    "д. $100e^{0.2x}$ <br>\n",
    "\n",
    "1. ![pic1.png](https://sun9-25.userapi.com/c858228/v858228580/11d685/oGV4QRM4g-I.jpg)\n",
    "2. ![pic2.png](https://sun9-13.userapi.com/c858228/v858228580/11d68c/aX9VkpWVosY.jpg)\n",
    "3. ![pic3.png](https://sun9-24.userapi.com/c858228/v858228580/11d693/Gzu0kXLECfg.jpg)\n",
    "4. ![pic4.png](https://sun9-45.userapi.com/c858228/v858228580/11d69a/sK-lypj-1Ik.jpg)\n",
    "5. ![pic5.png](https://sun9-3.userapi.com/c858228/v858228580/11d6a1/JpoMah5Jv0s.jpg)\n",
    "\n",
    "**Ответ:**"
   ]
  },
  {
   "cell_type": "markdown",
   "metadata": {},
   "source": [
    "1 - в, 2 - д, 3 - б, 4 - г, 5 - а"
   ]
  },
  {
   "cell_type": "markdown",
   "metadata": {
    "colab_type": "text",
    "id": "C-tgkRuE0XXX"
   },
   "source": [
    "### Задание 2. Проведите исследование полученных функций. \n",
    "\n",
    "1. $5x + 1.5$\n",
    "2. $2e^{0.2x}-1$\n",
    "3. $3\\sqrt x - 15$\n",
    "4. $2\\log(x) + 5$\n",
    "5. $-5x^2 - 10x + 100$\n",
    "\n",
    "\n"
   ]
  },
  {
   "cell_type": "code",
   "execution_count": 29,
   "metadata": {},
   "outputs": [],
   "source": [
    "from sympy import *\n",
    "from sympy.plotting import plot\n",
    "from sympy.solvers.inequalities import solve_univariate_inequality"
   ]
  },
  {
   "cell_type": "code",
   "execution_count": 4,
   "metadata": {},
   "outputs": [],
   "source": [
    "x = Symbol ('x')"
   ]
  },
  {
   "cell_type": "markdown",
   "metadata": {},
   "source": [
    "## 1. $5x + 1.5$"
   ]
  },
  {
   "cell_type": "code",
   "execution_count": 5,
   "metadata": {},
   "outputs": [],
   "source": [
    "f1 = 5 * x + 1.5"
   ]
  },
  {
   "cell_type": "code",
   "execution_count": 78,
   "metadata": {},
   "outputs": [
    {
     "data": {
      "image/png": "[encoded data removed]",
      "text/plain": [
       "<Figure size 432x288 with 1 Axes>"
      ]
     },
     "metadata": {
      "needs_background": "light"
     },
     "output_type": "display_data"
    },
    {
     "data": {
      "text/plain": [
       "<sympy.plotting.plot.Plot at 0x1724e9ebb88>"
      ]
     },
     "execution_count": 78,
     "metadata": {},
     "output_type": "execute_result"
    }
   ],
   "source": [
    "plot(f1)"
   ]
  },
  {
   "cell_type": "code",
   "execution_count": 59,
   "metadata": {},
   "outputs": [
    {
     "name": "stdout",
     "output_type": "stream",
     "text": [
      "четность: функция нечетная\n",
      "нули функции: [-0.300000000000000]\n",
      "f1>0 на: (-0.3 < x) & (x < oo)\n",
      "f1<0 на: (-oo < x) & (x < -0.3)\n",
      "f1 возрастает на: (-oo < x) & (x < oo)\n",
      "f1 убывает на: False\n",
      "экстремумы: []\n"
     ]
    }
   ],
   "source": [
    "if f1.subs(x, 100) == f1.subs(x, -100):\n",
    "    print('четность: функция четная')\n",
    "else:\n",
    "    print('четность: функция нечетная') \n",
    "print('нули функции:',solve(f1))\n",
    "print('f1>0 на:',solve_univariate_inequality (f1>0,x))\n",
    "print('f1<0 на:',solve_univariate_inequality (f1<0,x))\n",
    "print('f1 возрастает на:',solve_univariate_inequality (diff(f1)>0,x))\n",
    "print('f1 убывает на:',solve_univariate_inequality (diff(f1)<0,x))\n",
    "print('экстремумы:',solve(diff(f1)))"
   ]
  },
  {
   "cell_type": "code",
   "execution_count": null,
   "metadata": {},
   "outputs": [],
   "source": []
  },
  {
   "cell_type": "markdown",
   "metadata": {},
   "source": [
    "## 2. $2e^{0.2x}-1$"
   ]
  },
  {
   "cell_type": "code",
   "execution_count": 7,
   "metadata": {},
   "outputs": [],
   "source": [
    "f2 = 2 * exp (0.2 * x) - 1"
   ]
  },
  {
   "cell_type": "code",
   "execution_count": 8,
   "metadata": {
    "colab": {},
    "colab_type": "code",
    "id": "0uvTmySu9IeC"
   },
   "outputs": [
    {
     "data": {
      "image/png": "[encoded data removed]",
      "text/plain": [
       "<Figure size 432x288 with 1 Axes>"
      ]
     },
     "metadata": {
      "needs_background": "light"
     },
     "output_type": "display_data"
    },
    {
     "data": {
      "text/plain": [
       "<sympy.plotting.plot.Plot at 0x1724c907848>"
      ]
     },
     "execution_count": 8,
     "metadata": {},
     "output_type": "execute_result"
    }
   ],
   "source": [
    "plot(f2)"
   ]
  },
  {
   "cell_type": "code",
   "execution_count": 60,
   "metadata": {},
   "outputs": [
    {
     "name": "stdout",
     "output_type": "stream",
     "text": [
      "четность: функция нечетная\n",
      "нули функции: [-3.46573590279973]\n",
      "f2>0 на: (x < oo) & (-5.0*log(2) < x)\n",
      "f2<0 на: (-oo < x) & (x < -5.0*log(2))\n",
      "f2 возрастает на: (-oo < x) & (x < oo)\n",
      "f2 убывает на: False\n",
      "экстремумы: []\n"
     ]
    }
   ],
   "source": [
    "if f2.subs(x, 100) == f2.subs(x, -100):\n",
    "    print('четность: функция четная')\n",
    "else:\n",
    "    print('четность: функция нечетная') \n",
    "print('нули функции:',solve(f2))\n",
    "print('f2>0 на:',solve_univariate_inequality (f2>0,x))\n",
    "print('f2<0 на:',solve_univariate_inequality (f2<0,x))\n",
    "print('f2 возрастает на:',solve_univariate_inequality (diff(f2)>0,x))\n",
    "print('f2 убывает на:',solve_univariate_inequality (diff(f2)<0,x))\n",
    "print('экстремумы:',solve(diff(f2)))"
   ]
  },
  {
   "cell_type": "code",
   "execution_count": null,
   "metadata": {},
   "outputs": [],
   "source": []
  },
  {
   "cell_type": "markdown",
   "metadata": {},
   "source": [
    "## 3. $3\\sqrt x - 15$"
   ]
  },
  {
   "cell_type": "code",
   "execution_count": 79,
   "metadata": {},
   "outputs": [],
   "source": [
    "f3 = 3 * sqrt (x) - 15"
   ]
  },
  {
   "cell_type": "code",
   "execution_count": 81,
   "metadata": {},
   "outputs": [
    {
     "data": {
      "image/png": "[encoded data removed]",
      "text/plain": [
       "<Figure size 432x288 with 1 Axes>"
      ]
     },
     "metadata": {
      "needs_background": "light"
     },
     "output_type": "display_data"
    },
    {
     "data": {
      "text/plain": [
       "<sympy.plotting.plot.Plot at 0x1724eb31d08>"
      ]
     },
     "execution_count": 81,
     "metadata": {},
     "output_type": "execute_result"
    }
   ],
   "source": [
    "plot(f3,(x,0,100))"
   ]
  },
  {
   "cell_type": "code",
   "execution_count": 82,
   "metadata": {},
   "outputs": [
    {
     "name": "stdout",
     "output_type": "stream",
     "text": [
      "четность: функция нечетная\n",
      "нули функции: [25]\n",
      "f3>0 на: (25 < x) & (x < oo)\n",
      "f3<0 на: (0 <= x) & (x < 25)\n",
      "f3 возрастает на: (0 < x) & (x < oo)\n",
      "f3 убывает на: False\n",
      "экстремумы: []\n"
     ]
    }
   ],
   "source": [
    "if f3.subs(x, 100) == f3.subs(x, -100):\n",
    "    print('четность: функция четная')\n",
    "else:\n",
    "    print('четность: функция нечетная') \n",
    "print('нули функции:',solve(f3))\n",
    "print('f3>0 на:',solve_univariate_inequality (f3>0,x))\n",
    "print('f3<0 на:',solve_univariate_inequality (f3<0,x))\n",
    "print('f3 возрастает на:',solve_univariate_inequality (diff(f3)>0,x))\n",
    "print('f3 убывает на:',solve_univariate_inequality (diff(f3)<0,x))\n",
    "print('экстремумы:',solve(diff(f3)))"
   ]
  },
  {
   "cell_type": "code",
   "execution_count": null,
   "metadata": {},
   "outputs": [],
   "source": []
  },
  {
   "cell_type": "markdown",
   "metadata": {},
   "source": [
    "## 4. $2\\log(x) + 5$"
   ]
  },
  {
   "cell_type": "code",
   "execution_count": 83,
   "metadata": {},
   "outputs": [],
   "source": [
    "f4 = 2 * log (x, 10) + 5"
   ]
  },
  {
   "cell_type": "code",
   "execution_count": 103,
   "metadata": {},
   "outputs": [
    {
     "data": {
      "image/png": "[encoded data removed]",
      "text/plain": [
       "<Figure size 432x288 with 1 Axes>"
      ]
     },
     "metadata": {
      "needs_background": "light"
     },
     "output_type": "display_data"
    },
    {
     "data": {
      "text/plain": [
       "<sympy.plotting.plot.Plot at 0x1724efdf148>"
      ]
     },
     "execution_count": 103,
     "metadata": {},
     "output_type": "execute_result"
    }
   ],
   "source": [
    "plot(f4,(x,-2,10))"
   ]
  },
  {
   "cell_type": "code",
   "execution_count": 97,
   "metadata": {},
   "outputs": [
    {
     "data": {
      "text/plain": [
       "[sqrt(10)/1000]"
      ]
     },
     "execution_count": 97,
     "metadata": {},
     "output_type": "execute_result"
    }
   ],
   "source": [
    "solve(f4)"
   ]
  },
  {
   "cell_type": "code",
   "execution_count": 106,
   "metadata": {},
   "outputs": [
    {
     "name": "stdout",
     "output_type": "stream",
     "text": [
      "четность: функция нечетная\n",
      "нули функции: [sqrt(10)/1000]\n",
      "экстремумы: []\n"
     ]
    }
   ],
   "source": [
    "if f4.subs(x, 100) == f4.subs(x, -100):\n",
    "    print('четность: функция четная')\n",
    "else:\n",
    "    print('четность: функция нечетная') \n",
    "print('нули функции:',solve(f4))\n",
    "#print('f4>0 на:',solve_univariate_inequality (f4>0,x)) # f4>0 на x (sqrt(10)/1000, +inf)\n",
    "#print('f4<0 на:',solve_univariate_inequality (f4<0,x)) # f4<0 на x (0, sqrt(10)/1000)\n",
    "#print('f4 возрастает на:',solve_univariate_inequality (diff(f4)>0,x)) #f4 возрастает на x (0, +inf)\n",
    "#print('f4 убывает на:',solve_univariate_inequality (diff(f4)<0,x)) #f4 убывает на x ()\n",
    "print('экстремумы:',solve(diff(f4)))"
   ]
  },
  {
   "cell_type": "code",
   "execution_count": null,
   "metadata": {},
   "outputs": [],
   "source": []
  },
  {
   "cell_type": "markdown",
   "metadata": {},
   "source": [
    "## 5. $-5x^2 - 10x + 100$"
   ]
  },
  {
   "cell_type": "code",
   "execution_count": 86,
   "metadata": {},
   "outputs": [],
   "source": [
    "f5 = -5 * x **2 - 10 * x + 100"
   ]
  },
  {
   "cell_type": "code",
   "execution_count": 87,
   "metadata": {},
   "outputs": [
    {
     "data": {
      "image/png": "[encoded data removed]",
      "text/plain": [
       "<Figure size 432x288 with 1 Axes>"
      ]
     },
     "metadata": {
      "needs_background": "light"
     },
     "output_type": "display_data"
    },
    {
     "data": {
      "text/plain": [
       "<sympy.plotting.plot.Plot at 0x1724ed07748>"
      ]
     },
     "execution_count": 87,
     "metadata": {},
     "output_type": "execute_result"
    }
   ],
   "source": [
    "plot(f5)"
   ]
  },
  {
   "cell_type": "code",
   "execution_count": 89,
   "metadata": {},
   "outputs": [
    {
     "name": "stdout",
     "output_type": "stream",
     "text": [
      "четность: функция нечетная\n",
      "нули функции: [-1 + sqrt(21), -sqrt(21) - 1]\n",
      "f5>0 на: (x < -1 + sqrt(21)) & (-sqrt(21) - 1 < x)\n",
      "f5<0 на: ((x < oo) & (-1 + sqrt(21) < x)) | ((-oo < x) & (x < -sqrt(21) - 1))\n",
      "f5 возрастает на: (-oo < x) & (x < -1)\n",
      "f5 убывает на: (-1 < x) & (x < oo)\n",
      "экстремумы: [-1]\n"
     ]
    }
   ],
   "source": [
    "if f5.subs(x, 100) == f5.subs(x, -100):\n",
    "    print('четность: функция четная')\n",
    "else:\n",
    "    print('четность: функция нечетная') \n",
    "print('нули функции:',solve(f5))\n",
    "print('f5>0 на:',solve_univariate_inequality (f5>0,x))\n",
    "print('f5<0 на:',solve_univariate_inequality (f5<0,x))\n",
    "print('f5 возрастает на:',solve_univariate_inequality (diff(f5)>0,x))\n",
    "print('f5 убывает на:',solve_univariate_inequality (diff(f5)<0,x))\n",
    "print('экстремумы:',solve(diff(f5)))"
   ]
  },
  {
   "cell_type": "code",
   "execution_count": 91,
   "metadata": {},
   "outputs": [
    {
     "data": {
      "text/latex": [
       "$\\displaystyle -1$"
      ],
      "text/plain": [
       "-1"
      ]
     },
     "execution_count": 91,
     "metadata": {},
     "output_type": "execute_result"
    }
   ],
   "source": [
    "(solve(f5)[0] + solve(f5)[1]) / 2 # точка экстремума"
   ]
  },
  {
   "cell_type": "code",
   "execution_count": null,
   "metadata": {},
   "outputs": [],
   "source": []
  },
  {
   "cell_type": "code",
   "execution_count": null,
   "metadata": {},
   "outputs": [],
   "source": []
  },
  {
   "cell_type": "code",
   "execution_count": null,
   "metadata": {},
   "outputs": [],
   "source": []
  },
  {
   "cell_type": "code",
   "execution_count": null,
   "metadata": {},
   "outputs": [],
   "source": []
  }
 ],
 "metadata": {
  "colab": {
   "collapsed_sections": [],
   "name": "module4_hw.ipynb",
   "provenance": []
  },
  "kernelspec": {
   "display_name": "Python 3",
   "language": "python",
   "name": "python3"
  },
  "language_info": {
   "codemirror_mode": {
    "name": "ipython",
    "version": 3
   },
   "file_extension": ".py",
   "mimetype": "text/x-python",
   "name": "python",
   "nbconvert_exporter": "python",
   "pygments_lexer": "ipython3",
   "version": "3.7.6"
  }
 },
 "nbformat": 4,
 "nbformat_minor": 1
}
