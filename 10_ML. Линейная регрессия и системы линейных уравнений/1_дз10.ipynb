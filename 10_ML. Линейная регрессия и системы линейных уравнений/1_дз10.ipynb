{
 "cells": [
  {
   "cell_type": "code",
   "execution_count": 1,
   "metadata": {},
   "outputs": [],
   "source": [
    "import numpy as np\n",
    "from sympy import *"
   ]
  },
  {
   "cell_type": "markdown",
   "metadata": {},
   "source": [
    "## № 1"
   ]
  },
  {
   "cell_type": "markdown",
   "metadata": {},
   "source": [
    "**1**"
   ]
  },
  {
   "cell_type": "code",
   "execution_count": 2,
   "metadata": {},
   "outputs": [],
   "source": [
    "x, y = symbols ('x, y')"
   ]
  },
  {
   "cell_type": "code",
   "execution_count": 3,
   "metadata": {},
   "outputs": [
    {
     "data": {
      "text/latex": [
       "$\\displaystyle \\left[\\begin{matrix}-1 & 7\\\\8 & 8\\end{matrix}\\right]$"
      ],
      "text/plain": [
       "Matrix([\n",
       "[-1, 7],\n",
       "[ 8, 8]])"
      ]
     },
     "execution_count": 3,
     "metadata": {},
     "output_type": "execute_result"
    }
   ],
   "source": [
    "X = Matrix ([[-1, 7],[8, 8]])\n",
    "X"
   ]
  },
  {
   "cell_type": "code",
   "execution_count": 4,
   "metadata": {},
   "outputs": [
    {
     "data": {
      "text/latex": [
       "$\\displaystyle \\left[\\begin{matrix}-1 & 7 & -34\\\\8 & 8 & -48\\end{matrix}\\right]$"
      ],
      "text/plain": [
       "Matrix([\n",
       "[-1, 7, -34],\n",
       "[ 8, 8, -48]])"
      ]
     },
     "execution_count": 4,
     "metadata": {},
     "output_type": "execute_result"
    }
   ],
   "source": [
    "X_aug_1 = Matrix ([[-1, 7, -34],[8, 8, - 48]])\n",
    "X_aug_1"
   ]
  },
  {
   "cell_type": "code",
   "execution_count": 5,
   "metadata": {},
   "outputs": [
    {
     "data": {
      "text/latex": [
       "$\\displaystyle \\left\\{\\left( -1, \\  -5\\right)\\right\\}$"
      ],
      "text/plain": [
       "FiniteSet((-1, -5))"
      ]
     },
     "execution_count": 5,
     "metadata": {},
     "output_type": "execute_result"
    }
   ],
   "source": [
    "linsolve (X_aug_1, [x, y])"
   ]
  },
  {
   "cell_type": "markdown",
   "metadata": {},
   "source": [
    "**2**"
   ]
  },
  {
   "cell_type": "code",
   "execution_count": 6,
   "metadata": {},
   "outputs": [
    {
     "data": {
      "text/latex": [
       "$\\displaystyle \\left[\\begin{matrix}4 & -7 & -4\\\\3 & -4 & -3\\end{matrix}\\right]$"
      ],
      "text/plain": [
       "Matrix([\n",
       "[4, -7, -4],\n",
       "[3, -4, -3]])"
      ]
     },
     "execution_count": 6,
     "metadata": {},
     "output_type": "execute_result"
    }
   ],
   "source": [
    "X_aug_2 = Matrix ([[4, -7, -4],[3, -4, -3]])\n",
    "X_aug_2"
   ]
  },
  {
   "cell_type": "code",
   "execution_count": 7,
   "metadata": {},
   "outputs": [
    {
     "data": {
      "text/latex": [
       "$\\displaystyle \\left\\{\\left( -1, \\  0\\right)\\right\\}$"
      ],
      "text/plain": [
       "FiniteSet((-1, 0))"
      ]
     },
     "execution_count": 7,
     "metadata": {},
     "output_type": "execute_result"
    }
   ],
   "source": [
    "linsolve (X_aug_2, [x, y])"
   ]
  },
  {
   "cell_type": "markdown",
   "metadata": {},
   "source": [
    "**3**"
   ]
  },
  {
   "cell_type": "code",
   "execution_count": 8,
   "metadata": {},
   "outputs": [],
   "source": [
    "a, b = symbols ('a, b')"
   ]
  },
  {
   "cell_type": "code",
   "execution_count": 9,
   "metadata": {},
   "outputs": [
    {
     "data": {
      "text/latex": [
       "$\\displaystyle \\left[\\begin{matrix}8 & -4 & 64\\\\-3 & 3 & -21\\end{matrix}\\right]$"
      ],
      "text/plain": [
       "Matrix([\n",
       "[ 8, -4,  64],\n",
       "[-3,  3, -21]])"
      ]
     },
     "execution_count": 9,
     "metadata": {},
     "output_type": "execute_result"
    }
   ],
   "source": [
    "X_aug_3 = Matrix ([[8, -4, 64],[-3, 3, -21]])\n",
    "X_aug_3"
   ]
  },
  {
   "cell_type": "code",
   "execution_count": 10,
   "metadata": {},
   "outputs": [
    {
     "data": {
      "text/latex": [
       "$\\displaystyle \\left\\{\\left( 9, \\  2\\right)\\right\\}$"
      ],
      "text/plain": [
       "FiniteSet((9, 2))"
      ]
     },
     "execution_count": 10,
     "metadata": {},
     "output_type": "execute_result"
    }
   ],
   "source": [
    "linsolve (X_aug_3, [a, b])"
   ]
  },
  {
   "cell_type": "markdown",
   "metadata": {},
   "source": [
    "**4**"
   ]
  },
  {
   "cell_type": "code",
   "execution_count": 11,
   "metadata": {},
   "outputs": [],
   "source": [
    "x1, x2, x3 = symbols ('x1, x2, x3 ')"
   ]
  },
  {
   "cell_type": "code",
   "execution_count": 12,
   "metadata": {},
   "outputs": [
    {
     "data": {
      "text/latex": [
       "$\\displaystyle \\left[\\begin{matrix}5 & 7 & -5 & -47\\\\0 & -2 & 2 & 10\\\\-4 & -8 & -7 & 63\\end{matrix}\\right]$"
      ],
      "text/plain": [
       "Matrix([\n",
       "[ 5,  7, -5, -47],\n",
       "[ 0, -2,  2,  10],\n",
       "[-4, -8, -7,  63]])"
      ]
     },
     "execution_count": 12,
     "metadata": {},
     "output_type": "execute_result"
    }
   ],
   "source": [
    "X_aug_4 = Matrix ([[5, 7, -5, -47], [0, -2, 2, 10], [-4, -8, -7, 63]])\n",
    "X_aug_4"
   ]
  },
  {
   "cell_type": "code",
   "execution_count": 13,
   "metadata": {},
   "outputs": [
    {
     "data": {
      "text/latex": [
       "$\\displaystyle \\left\\{\\left( -2, \\  -6, \\  -1\\right)\\right\\}$"
      ],
      "text/plain": [
       "FiniteSet((-2, -6, -1))"
      ]
     },
     "execution_count": 13,
     "metadata": {},
     "output_type": "execute_result"
    }
   ],
   "source": [
    "linsolve (X_aug_4, [x1, x2, x2])"
   ]
  },
  {
   "cell_type": "code",
   "execution_count": null,
   "metadata": {},
   "outputs": [],
   "source": []
  },
  {
   "cell_type": "markdown",
   "metadata": {},
   "source": [
    "## № 2"
   ]
  },
  {
   "cell_type": "markdown",
   "metadata": {},
   "source": [
    "**1**"
   ]
  },
  {
   "cell_type": "code",
   "execution_count": 14,
   "metadata": {},
   "outputs": [
    {
     "data": {
      "text/latex": [
       "$\\displaystyle \\left[\\begin{matrix}-34\\\\-48\\end{matrix}\\right]$"
      ],
      "text/plain": [
       "Matrix([\n",
       "[-34],\n",
       "[-48]])"
      ]
     },
     "execution_count": 14,
     "metadata": {},
     "output_type": "execute_result"
    }
   ],
   "source": [
    "Matrix ([[-1, 7],[8, 8]]) * Matrix ([-1, -5])"
   ]
  },
  {
   "cell_type": "markdown",
   "metadata": {},
   "source": [
    "**2**"
   ]
  },
  {
   "cell_type": "code",
   "execution_count": 15,
   "metadata": {},
   "outputs": [
    {
     "data": {
      "text/latex": [
       "$\\displaystyle \\left[\\begin{matrix}-4\\\\-3\\end{matrix}\\right]$"
      ],
      "text/plain": [
       "Matrix([\n",
       "[-4],\n",
       "[-3]])"
      ]
     },
     "execution_count": 15,
     "metadata": {},
     "output_type": "execute_result"
    }
   ],
   "source": [
    "Matrix ([[4, -7],[3, -4]]) * Matrix ([-1, 0])"
   ]
  },
  {
   "cell_type": "markdown",
   "metadata": {},
   "source": [
    "**3**"
   ]
  },
  {
   "cell_type": "code",
   "execution_count": 16,
   "metadata": {},
   "outputs": [
    {
     "data": {
      "text/latex": [
       "$\\displaystyle \\left[\\begin{matrix}64\\\\-21\\end{matrix}\\right]$"
      ],
      "text/plain": [
       "Matrix([\n",
       "[ 64],\n",
       "[-21]])"
      ]
     },
     "execution_count": 16,
     "metadata": {},
     "output_type": "execute_result"
    }
   ],
   "source": [
    "Matrix ([[8, -4],[-3, 3]]) * Matrix ([9, 2])"
   ]
  },
  {
   "cell_type": "code",
   "execution_count": 17,
   "metadata": {},
   "outputs": [
    {
     "data": {
      "text/latex": [
       "$\\displaystyle \\left[\\begin{matrix}-47\\\\10\\\\63\\end{matrix}\\right]$"
      ],
      "text/plain": [
       "Matrix([\n",
       "[-47],\n",
       "[ 10],\n",
       "[ 63]])"
      ]
     },
     "execution_count": 17,
     "metadata": {},
     "output_type": "execute_result"
    }
   ],
   "source": [
    "Matrix ([[5, 7, -5], [0, -2, 2], [-4, -8, -7]]) * Matrix ([-2, -6, -1])"
   ]
  },
  {
   "cell_type": "code",
   "execution_count": null,
   "metadata": {},
   "outputs": [],
   "source": []
  },
  {
   "cell_type": "markdown",
   "metadata": {},
   "source": [
    "## № 3"
   ]
  },
  {
   "cell_type": "code",
   "execution_count": 18,
   "metadata": {},
   "outputs": [
    {
     "data": {
      "text/latex": [
       "$\\displaystyle \\left[\\begin{matrix}5 & 7 & -5\\\\0 & -2 & 2\\\\-4 & -8 & -7\\\\1 & 1 & 2\\\\2 & -1 & 2\\\\4 & 1 & 4\\end{matrix}\\right]$"
      ],
      "text/plain": [
       "Matrix([\n",
       "[ 5,  7, -5],\n",
       "[ 0, -2,  2],\n",
       "[-4, -8, -7],\n",
       "[ 1,  1,  2],\n",
       "[ 2, -1,  2],\n",
       "[ 4,  1,  4]])"
      ]
     },
     "execution_count": 18,
     "metadata": {},
     "output_type": "execute_result"
    }
   ],
   "source": [
    "# матрица объектов - признаков\n",
    "X = Matrix ([[5, 7, -5], [0, -2, 2], [-4, -8, -7], [1, 1, 2], [2, -1, 2], [4, 1, 4]])\n",
    "X"
   ]
  },
  {
   "cell_type": "code",
   "execution_count": 19,
   "metadata": {},
   "outputs": [
    {
     "data": {
      "text/latex": [
       "$\\displaystyle \\left[\\begin{matrix}-47\\\\10\\\\63\\\\-1\\\\-4\\\\-2\\end{matrix}\\right]$"
      ],
      "text/plain": [
       "Matrix([\n",
       "[-47],\n",
       "[ 10],\n",
       "[ 63],\n",
       "[ -1],\n",
       "[ -4],\n",
       "[ -2]])"
      ]
     },
     "execution_count": 19,
     "metadata": {},
     "output_type": "execute_result"
    }
   ],
   "source": [
    "# вектор ответов\n",
    "b = Matrix([-47, 10, 63, -1, -4, -2])\n",
    "b"
   ]
  },
  {
   "cell_type": "code",
   "execution_count": 20,
   "metadata": {},
   "outputs": [],
   "source": [
    "x, y, z = symbols ('x, y, z')"
   ]
  },
  {
   "cell_type": "code",
   "execution_count": 21,
   "metadata": {},
   "outputs": [
    {
     "data": {
      "text/latex": [
       "$\\displaystyle \\left[\\begin{matrix}x\\\\y\\\\z\\end{matrix}\\right]$"
      ],
      "text/plain": [
       "Matrix([\n",
       "[x],\n",
       "[y],\n",
       "[z]])"
      ]
     },
     "execution_count": 21,
     "metadata": {},
     "output_type": "execute_result"
    }
   ],
   "source": [
    "# вектор весов\n",
    "a = Matrix([x, y, z])\n",
    "a"
   ]
  },
  {
   "cell_type": "code",
   "execution_count": 22,
   "metadata": {},
   "outputs": [
    {
     "data": {
      "text/latex": [
       "$\\displaystyle \\left[\\begin{matrix}5 x + 7 y - 5 z\\\\- 2 y + 2 z\\\\- 4 x - 8 y - 7 z\\\\x + y + 2 z\\\\2 x - y + 2 z\\\\4 x + y + 4 z\\end{matrix}\\right]$"
      ],
      "text/plain": [
       "Matrix([\n",
       "[ 5*x + 7*y - 5*z],\n",
       "[      -2*y + 2*z],\n",
       "[-4*x - 8*y - 7*z],\n",
       "[     x + y + 2*z],\n",
       "[   2*x - y + 2*z],\n",
       "[   4*x + y + 4*z]])"
      ]
     },
     "execution_count": 22,
     "metadata": {},
     "output_type": "execute_result"
    }
   ],
   "source": [
    "y = X * a\n",
    "y"
   ]
  },
  {
   "cell_type": "code",
   "execution_count": 23,
   "metadata": {},
   "outputs": [
    {
     "data": {
      "text/latex": [
       "$\\displaystyle \\frac{\\left(- 2 y + 2 z - 10\\right)^{2}}{6} + \\frac{\\left(- 4 x - 8 y - 7 z - 63\\right)^{2}}{6} + \\frac{\\left(x + y + 2 z + 1\\right)^{2}}{6} + \\frac{\\left(2 x - y + 2 z + 4\\right)^{2}}{6} + \\frac{\\left(4 x + y + 4 z + 2\\right)^{2}}{6} + \\frac{\\left(5 x + 7 y - 5 z + 47\\right)^{2}}{6}$"
      ],
      "text/plain": [
       "(-2*y + 2*z - 10)**2/6 + (-4*x - 8*y - 7*z - 63)**2/6 + (x + y + 2*z + 1)**2/6 + (2*x - y + 2*z + 4)**2/6 + (4*x + y + 4*z + 2)**2/6 + (5*x + 7*y - 5*z + 47)**2/6"
      ]
     },
     "execution_count": 23,
     "metadata": {},
     "output_type": "execute_result"
    }
   ],
   "source": [
    "# среднеквадратичная ошибка\n",
    "MSE = 0\n",
    "for i in range(len (b)):\n",
    "    MSE +=  (y[i] - b[i]) **2\n",
    "MSE = MSE / len (b)\n",
    "MSE"
   ]
  },
  {
   "cell_type": "code",
   "execution_count": 24,
   "metadata": {},
   "outputs": [
    {
     "data": {
      "text/plain": [
       "array([62*x/3 + 70*y/3 + 25*z/3 + 168, 70*x/3 + 40*y + 7*z + 284,\n",
       "       25*x/3 + 7*y + 34*z + 68], dtype=object)"
      ]
     },
     "execution_count": 24,
     "metadata": {},
     "output_type": "execute_result"
    }
   ],
   "source": [
    "# градиент ошибки\n",
    "d_MSE = np.array([])\n",
    "for i in range(len (a)):\n",
    "    d_MSE = np.append (d_MSE, diff(MSE, a[i]))\n",
    "    \n",
    "d_MSE"
   ]
  },
  {
   "cell_type": "code",
   "execution_count": 25,
   "metadata": {},
   "outputs": [],
   "source": [
    "x0 = np.zeros ((len(a))) # начальная точка\n",
    "l = 0.01 # шаг \n",
    "num = 0 # итерации"
   ]
  },
  {
   "cell_type": "code",
   "execution_count": 26,
   "metadata": {},
   "outputs": [
    {
     "name": "stdout",
     "output_type": "stream",
     "text": [
      "247.497333333333\n",
      "104.486005072593\n",
      "73.7744351503798\n",
      "64.1857120851198\n",
      "59.5591801838142\n",
      "56.5686545495930\n",
      "54.3188045027199\n",
      "количество итераций =  7 \n",
      " MSE =  54.3188045027199\n"
     ]
    }
   ],
   "source": [
    "# градиентный спуск\n",
    "while True:\n",
    "    num += 1\n",
    "    d_MSE_=[]\n",
    "    for i in range(len (a)):\n",
    "        d_MSE_ = np.append (d_MSE_, d_MSE[i].subs ({a[0]:x0[0], a[1]:x0[1], a[2]:x0[2]})) # подставляем в градиент значения а\n",
    "        \n",
    "    x0 = x0 - l * d_MSE_ # вычисляем новые значения а\n",
    "     \n",
    "    MSE_= MSE.subs({a[0]:x0[0], a[1]:x0[1], a[2]:x0[2]}) # вычисление среднеквадратичной ошибки \n",
    "    \n",
    "    print(MSE_)\n",
    "    if MSE_ < 55 :\n",
    "        print ('количество итераций = ', num, '\\n', 'MSE = ', MSE_)\n",
    "        break\n",
    "\n",
    "    "
   ]
  },
  {
   "cell_type": "code",
   "execution_count": 27,
   "metadata": {},
   "outputs": [
    {
     "name": "stdout",
     "output_type": "stream",
     "text": [
      "x =  -2.23893438867603 \n",
      " y =  -5.49162915212318 \n",
      " z =  -0.412953715575168\n"
     ]
    }
   ],
   "source": [
    "# решение\n",
    "x = x0[0]\n",
    "y = x0[1]\n",
    "z = x0[2]\n",
    "print ('x = ', x, '\\n', 'y = ', y, '\\n', 'z = ', z )"
   ]
  },
  {
   "cell_type": "code",
   "execution_count": null,
   "metadata": {},
   "outputs": [],
   "source": []
  }
 ],
 "metadata": {
  "kernelspec": {
   "display_name": "Python 3",
   "language": "python",
   "name": "python3"
  },
  "language_info": {
   "codemirror_mode": {
    "name": "ipython",
    "version": 3
   },
   "file_extension": ".py",
   "mimetype": "text/x-python",
   "name": "python",
   "nbconvert_exporter": "python",
   "pygments_lexer": "ipython3",
   "version": "3.7.6"
  }
 },
 "nbformat": 4,
 "nbformat_minor": 4
}
